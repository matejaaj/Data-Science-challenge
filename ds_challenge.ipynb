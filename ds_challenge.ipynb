{
 "cells": [
  {
   "cell_type": "code",
   "execution_count": null,
   "metadata": {},
   "outputs": [],
   "source": [
    "import pandas as pd\n",
    "import numpy as np\n",
    "\n",
    "df = pd.read_csv('jobfair_train.csv')\n",
    "df = df.drop(['club_id','cohort_season','season','dynamic_payment_segment', 'registration_country', 'registration_platform_specific'], axis=1)"
   ]
  },
  {
   "cell_type": "code",
   "execution_count": null,
   "metadata": {},
   "outputs": [],
   "source": [
    "df.describe()"
   ]
  },
  {
   "cell_type": "code",
   "execution_count": null,
   "metadata": {},
   "outputs": [],
   "source": [
    "columns_to_rank = ['training_count_last_28_days', 'avg_stars_top_11_players', 'global_competition_level', 'session_count_last_28_days', 'tokens_spent_last_28_days']\n",
    "rank_suffixes = ['training', 'stars', 'global_level', 'session', 'token']\n",
    "\n",
    "df['global_competition_level'] = df['global_competition_level'].fillna(0)\n",
    "\n",
    "for col, suffix in zip(columns_to_rank, rank_suffixes):\n",
    "    rank_col_name = f'rank_{suffix}'\n",
    "    df[rank_col_name] = df.groupby('league_id')[col].rank(ascending=False, method='min').astype(int)\n"
   ]
  },
  {
   "cell_type": "code",
   "execution_count": null,
   "metadata": {},
   "outputs": [],
   "source": [
    "import matplotlib.pyplot as plt\n",
    "import seaborn as sns\n",
    "\n",
    "correlation_matrix = df.corr()\n",
    "\n",
    "plt.figure(figsize=(12, 10))\n",
    "sns.heatmap(correlation_matrix, annot=True, cmap='coolwarm', fmt='.2f', linewidths=0.5)\n",
    "plt.title('Matrica Korelacije')\n",
    "plt.show()"
   ]
  },
  {
   "cell_type": "code",
   "execution_count": null,
   "metadata": {},
   "outputs": [],
   "source": [
    "df = df.drop(['morale_boosters_stash', 'rests_stash', 'tokens_stash', 'tokens_spent_last_28_days'], axis=1)\n",
    "df = df.drop(['avg_training_factor_top_11_players'], axis = 1)\n",
    "df = df.drop(['avg_age_top_11_players'], axis = 1)\n",
    "df = df.drop(['league_match_watched_count_last_28_days'], axis = 1)\n",
    "df = df.drop(['global_competition_level'], axis = 1)\n",
    "df = df.drop(['avg_stars_top_14_players',  'days_active_last_28_days', 'session_count_last_28_days', 'playtime_last_28_days', 'league_match_won_count_last_28_days', 'training_count_last_28_days'], axis = 1)\n",
    "df = df.drop(['avg_stars_top_11_players'], axis = 1)"
   ]
  },
  {
   "cell_type": "code",
   "execution_count": null,
   "metadata": {},
   "outputs": [],
   "source": [
    "from sklearn.model_selection import train_test_split\n",
    "from sklearn.neural_network import MLPRegressor\n",
    "from sklearn.preprocessing import RobustScaler\n",
    "\n",
    "x = df.drop(['league_rank', 'league_id'], axis = 1)\n",
    "y = df['league_rank']\n",
    "\n",
    "X_train, X_test, y_train, y_test = train_test_split(x, y, test_size=0.2, random_state=42)\n",
    "\n",
    "scaler = RobustScaler()\n",
    "X_train = scaler.fit_transform(X_train)\n",
    "X_test = scaler.transform(X_test)\n",
    "\n",
    "\n",
    "model = MLPRegressor(\n",
    "    hidden_layer_sizes=(100, 50),\n",
    "    max_iter=500,\n",
    "    learning_rate_init=0.001,\n",
    "    random_state=42\n",
    ")\n",
    "model.fit(X_train, y_train)\n",
    "\n",
    "\n",
    "predictions = np.round(model.predict(X_test))"
   ]
  },
  {
   "cell_type": "code",
   "execution_count": null,
   "metadata": {},
   "outputs": [],
   "source": [
    "mean_value = np.mean(predictions)\n",
    "std_dev = np.std(predictions)\n",
    "min_value = np.min(predictions)\n",
    "max_value = np.max(predictions)\n",
    "\n",
    "\n",
    "print(f\"Mean: {mean_value}\")\n",
    "print(f\"Standard Deviation: {std_dev}\")\n",
    "print(f\"Minimum: {min_value}\")\n",
    "print(f\"Maximum: {max_value}\")"
   ]
  },
  {
   "cell_type": "code",
   "execution_count": null,
   "metadata": {},
   "outputs": [],
   "source": [
    "from sklearn.metrics import mean_absolute_error, r2_score\n",
    "mae = mean_absolute_error(y_test, predictions)\n",
    "print(f\"Mean Absolute Error (MAE): {mae}\")\n",
    "r2 = r2_score(y_test, predictions)\n",
    "print(f\"R-squared: {r2}\")"
   ]
  },
  {
   "cell_type": "code",
   "execution_count": null,
   "metadata": {},
   "outputs": [],
   "source": [
    "import numpy as np\n",
    "import pandas as pd\n",
    "from sklearn.preprocessing import RobustScaler\n",
    "\n",
    "test_df = pd.read_csv('jobfair_test.csv')\n",
    "\n",
    "columns_to_rank = ['training_count_last_28_days', 'avg_stars_top_11_players', 'global_competition_level', 'session_count_last_28_days', 'tokens_spent_last_28_days']\n",
    "rank_suffixes = ['training', 'stars', 'global_level', 'session', 'token']\n",
    "\n",
    "test_df['global_competition_level'] = test_df['global_competition_level'].fillna(0)\n",
    "\n",
    "for col, suffix in zip(columns_to_rank, rank_suffixes):\n",
    "    rank_col_name = f'rank_{suffix}'\n",
    "    test_df[rank_col_name] = test_df.groupby('league_id')[col].rank(ascending=False, method='min').astype(int)\n",
    "\n",
    "x_test = test_df[['rank_training', 'rank_stars', 'rank_global_level', 'rank_session', 'rank_token']]\n",
    "x_test = scaler.transform(x_test)\n",
    "\n",
    "y_predictions = np.round(model.predict(x_test))\n"
   ]
  },
  {
   "cell_type": "code",
   "execution_count": null,
   "metadata": {},
   "outputs": [],
   "source": [
    "test_df['league_rank'] = y_predictions\n",
    "result_df = test_df[['club_id', 'league_rank']]\n",
    "result_df.to_csv('test_predictions.csv', index=False)"
   ]
  }
 ],
 "metadata": {
  "kernelspec": {
   "display_name": "Python 3",
   "language": "python",
   "name": "python3"
  },
  "language_info": {
   "codemirror_mode": {
    "name": "ipython",
    "version": 3
   },
   "file_extension": ".py",
   "mimetype": "text/x-python",
   "name": "python",
   "nbconvert_exporter": "python",
   "pygments_lexer": "ipython3",
   "version": "3.12.0"
  }
 },
 "nbformat": 4,
 "nbformat_minor": 2
}
